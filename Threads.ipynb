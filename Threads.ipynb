{
  "nbformat": 4,
  "nbformat_minor": 0,
  "metadata": {
    "colab": {
      "provenance": []
    },
    "kernelspec": {
      "name": "python3",
      "display_name": "Python 3"
    },
    "language_info": {
      "name": "python"
    }
  },
  "cells": [
    {
      "cell_type": "markdown",
      "source": [
        "## Criação de threads\n",
        "\n",
        "Primeiramente iniciamos fazendo a seguinte importação:"
      ],
      "metadata": {
        "id": "5qvfpcfAd0X4"
      }
    },
    {
      "cell_type": "code",
      "source": [
        "from threading import Thread # importação que lida especialmente com threads e suas criações"
      ],
      "metadata": {
        "id": "fkE1laEDh8pE"
      },
      "execution_count": 46,
      "outputs": []
    },
    {
      "cell_type": "markdown",
      "source": [
        "A classe atribuída \"SumThread\" é uma subclasse da classe Thread do módulo threading do Python que foi importado acima. Ela é responsável por realizar a soma de uma parte específica de uma lista em uma thread separada"
      ],
      "metadata": {
        "id": "WRkqe1nkSuc_"
      }
    },
    {
      "cell_type": "code",
      "execution_count": 50,
      "metadata": {
        "id": "w1ZI6wvmhWJR"
      },
      "outputs": [],
      "source": [
        "class SumThread(Thread):\n",
        "    def __init__(self, part, id):\n",
        "        super().__init__()  # Chama o construtor da classe base Thread\n",
        "        self.part = part    # Armazena a parte da lista que esta thread irá processar\n",
        "        self.id = id        # Armazena o identificador da thread\n",
        "        self.result = None  # Inicializa o atributo de resultado como None\n",
        "\n",
        "    def run(self):\n",
        "      # executa quando a thread é iniciada e calcula a soma da parte atribuída\n",
        "        print(f\"Thread {self.id} process: {self.part}\")\n",
        "        self.result = sum(self.part) # Soma os elementos da parte e armazena no atributo result\n",
        "\n",
        "    def get_result(self):\n",
        "      self.join()  # Bloqueia até que a thread termine de executar\n",
        "      return self.result  # Retorna o resultado calculado após a conclusão da thread"
      ]
    },
    {
      "cell_type": "markdown",
      "source": [
        "Aqui a função split_list divide uma lista de dados em um número especificado de partes. O slice_size determina o número de elementos em cada parte, calculado como o tamanho total da lista dividido pelo número de partes desejadas e lista cria sub-listas que indicam cada segmento da lista original para processamento paralelo.\n",
        "\n",
        "É nessa divisão que é onde cada thread processará uma parte separada da lista.\n",
        "\n",
        "Já a função multi_thread_sum aceita a lista de dados e o número de threads e, após dividir a lista em partes, a função cria e inicia uma thread para cada parte utilizando a classe SumThread.\n",
        "\n",
        "Cada thread é responsável por calcular a soma de sua respectiva parte, tanto é que é utilizado uma expressão geradora para chamar get_result em cada thread, somando todos os resultados para produzir o valor final."
      ],
      "metadata": {
        "id": "1EpjxxXCVFgY"
      }
    },
    {
      "cell_type": "code",
      "source": [
        "def split_list(data, parts):\n",
        "  # Calcula o número de elementos por parte, dividindo o tamanho total da lista pelo número de partes\n",
        "    slice_size = len(data) // parts\n",
        "    # Retorna uma lista de sub-listas, cada uma sendo uma parte da lista original\n",
        "    return [data[i*slice_size: (i+1)*slice_size] for i in range(parts)]\n",
        "\n",
        "def multi_thread_sum(data, num_threads):\n",
        "  # Utiliza a função split_list para dividir os dados em sub-listas baseadas no número de threads especificado\n",
        "    slices = split_list(data, num_threads)\n",
        "    threads = [SumThread(slice, i+1) for i, slice in enumerate(slices)]\n",
        "\n",
        "# for especial para iniciar todas as threads criadas\n",
        "    for thread in threads:\n",
        "        thread.start()\n",
        "\n",
        "    # Espera todas as threads terminarem e soma os resultados retornados por cada uma\n",
        "\n",
        "    return sum(thread.get_result() for thread in threads)"
      ],
      "metadata": {
        "id": "agtmWaGEibO4"
      },
      "execution_count": 51,
      "outputs": []
    },
    {
      "cell_type": "markdown",
      "source": [
        "Aqui é feito os casos de teste, cada um consiste em uma lista de números e o número de threads a serem usadas. Foi utiliza um \"for\" para iterar sobre cada caso de teste, calculando a soma multithread dos números usando e posteriormente printando os resultados."
      ],
      "metadata": {
        "id": "J1pGT4UjYeKR"
      }
    },
    {
      "cell_type": "code",
      "source": [
        "test_cases = [\n",
        "    ([0, 1, 2, 3, 4, 5], 2),\n",
        "    ([-300, -301, -302, -303, -304, -305], 2),\n",
        "    ([12, 13, 14, 15, 16], 2)\n",
        "]\n",
        "\n",
        "for total, (numbers, threads) in enumerate(test_cases, 1):\n",
        "    print(f\"Start test case {total}\")\n",
        "    result = multi_thread_sum(numbers, threads)\n",
        "    print(f\"Result {total}: {result}\")\n",
        "    print(\"-\" * 20)"
      ],
      "metadata": {
        "colab": {
          "base_uri": "https://localhost:8080/"
        },
        "id": "LPNVT7-zidzX",
        "outputId": "c32b5d35-c5b7-4893-93f9-d900cd9e6a8b"
      },
      "execution_count": 52,
      "outputs": [
        {
          "output_type": "stream",
          "name": "stdout",
          "text": [
            "Start test case 1\n",
            "Thread 1 process: [0, 1, 2]\n",
            "Thread 2 process: [3, 4, 5]\n",
            "Result 1: 15\n",
            "--------------------\n",
            "Start test case 2\n",
            "Thread 1 process: [-300, -301, -302]\n",
            "Thread 2 process: [-303, -304, -305]\n",
            "Result 2: -1815\n",
            "--------------------\n",
            "Start test case 3\n",
            "Thread 1 process: [12, 13]\n",
            "Thread 2 process: [14, 15]\n",
            "Result 3: 54\n",
            "--------------------\n"
          ]
        }
      ]
    },
    {
      "cell_type": "markdown",
      "source": [
        "Fontes de inspiração:\n",
        "\n",
        "1. https://medium.com/@habbema/threads-em-python-9a3a7b3c776d\n",
        "\n",
        "2. https://medium.com/@superfastpython/python-threading-7-day-crash-course-721cd552aecf\n",
        "\n",
        "3. https://medium.com/@rajputgajanan50/threading-in-python-9e46f2412994#:~:text=%F0%9F%91%89Understanding%20Threads%3A&text=In%20Python%2C%20the%20threading%20module,more%20efficiently%20than%20separate%20processes.\n"
      ],
      "metadata": {
        "id": "5mXRNFrpS6aZ"
      }
    }
  ]
}